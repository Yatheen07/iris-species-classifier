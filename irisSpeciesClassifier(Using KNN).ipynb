{
 "cells": [
  {
   "cell_type": "code",
   "execution_count": null,
   "metadata": {},
   "outputs": [],
   "source": [
    "import numpy as np\n",
    "from sklearn.datasets import load_iris\n",
    "print(\"Required Packages and dataset imported Succesfully\")"
   ]
  },
  {
   "cell_type": "markdown",
   "metadata": {},
   "source": [
    "### Step 0 : Load and Understand the Data "
   ]
  },
  {
   "cell_type": "code",
   "execution_count": null,
   "metadata": {
    "scrolled": false
   },
   "outputs": [],
   "source": [
    "iris = load_iris()\n",
    "print(\"Bunch Object Loaded Succesfully\")\n",
    "print(\"\\nThe Dataset :\\n\")\n",
    "print(\"The Dataset Description :\" + iris['DESCR'])\n",
    "print(\"The keys in here are : \"+str(iris.keys()))\n",
    "print(\"The Feature_names are : \"+str(iris['feature_names']))\n",
    "print(\"The Target_names are : \"+str(iris['target_names']))\n",
    "print(\"The Shape of the Data : \" + str(iris['data'].shape))\n"
   ]
  },
  {
   "cell_type": "markdown",
   "metadata": {},
   "source": [
    "###### Bunch Object In Python : This is similar to a dict but allows to use it as an object as well."
   ]
  },
  {
   "cell_type": "markdown",
   "metadata": {},
   "source": [
    "### Step 1 : Split the Data into Test data and Train Data\n",
    "\n"
   ]
  },
  {
   "cell_type": "code",
   "execution_count": null,
   "metadata": {},
   "outputs": [],
   "source": [
    "from sklearn.model_selection import train_test_split\n",
    "X_train, X_test, y_train, y_test = train_test_split(iris['data'], iris['target'],random_state=0)\n",
    "print(\"Training Data Shape: \"+ str(X_train.shape)+\" ==> 75%\")\n",
    "print(\"Test Data Shape: \"+ str(X_test.shape) + \" ==> 25%\")"
   ]
  },
  {
   "cell_type": "markdown",
   "metadata": {},
   "source": [
    "### Step 2 : Visualisation Using PairPlot"
   ]
  },
  {
   "cell_type": "code",
   "execution_count": null,
   "metadata": {},
   "outputs": [],
   "source": [
    "import matplotlib.pyplot as plt\n",
    "fig, ax = plt.subplots(3, 3, figsize=(15, 15))\n",
    "plt.suptitle(\"iris_pairplot\")\n",
    "for i in range(3):\n",
    "    for j in range(3):\n",
    "        ax[i, j].scatter(X_train[:, j], X_train[:, i + 1], c=y_train, s=60)\n",
    "        ax[i, j].set_xticks(())\n",
    "        ax[i, j].set_yticks(())\n",
    "        if i == 2:\n",
    "            ax[i, j].set_xlabel(iris['feature_names'][j])\n",
    "        if j == 0:\n",
    "            ax[i, j].set_ylabel(iris['feature_names'][i + 1])\n",
    "        if j > i:\n",
    "            ax[i, j].set_visible(False)"
   ]
  },
  {
   "cell_type": "markdown",
   "metadata": {},
   "source": [
    "### Step 3: Implementing K-Nearest Neighbours for Classification"
   ]
  },
  {
   "cell_type": "code",
   "execution_count": null,
   "metadata": {},
   "outputs": [],
   "source": [
    "from sklearn.neighbors import KNeighborsClassifier\n",
    "knn = KNeighborsClassifier(n_neighbors=1)\n",
    "knn.fit(X_train, y_train)\n",
    "KNeighborsClassifier(algorithm='auto', leaf_size=30, metric='minkowski',\n",
    "           metric_params=None, n_jobs=1, n_neighbors=1, p=2,\n",
    "           weights='uniform') \n",
    "print(\"Model Succesfuly Fit!\")"
   ]
  },
  {
   "cell_type": "markdown",
   "metadata": {},
   "source": [
    "### Step 4: Prediction from Test Data"
   ]
  },
  {
   "cell_type": "code",
   "execution_count": null,
   "metadata": {},
   "outputs": [],
   "source": [
    "y_pred = knn.predict(X_test) \n",
    "np.mean(y_pred == y_test)\n",
    "print(\"Accuracy: \"+str(knn.score(X_test, y_test)))"
   ]
  },
  {
   "cell_type": "markdown",
   "metadata": {},
   "source": [
    "### Step 5: Prediction for a new Data "
   ]
  },
  {
   "cell_type": "code",
   "execution_count": null,
   "metadata": {},
   "outputs": [],
   "source": [
    "X_new = np.array([[5, 7.9, 61, 1.2]])\n",
    "prediction = knn.predict(X_new) \n",
    "print(\"My Guess is : \"+str(iris['target_names'][prediction]))"
   ]
  }
 ],
 "metadata": {
  "kernelspec": {
   "display_name": "Python 3",
   "language": "python",
   "name": "python3"
  },
  "language_info": {
   "codemirror_mode": {
    "name": "ipython",
    "version": 3
   },
   "file_extension": ".py",
   "mimetype": "text/x-python",
   "name": "python",
   "nbconvert_exporter": "python",
   "pygments_lexer": "ipython3",
   "version": "3.6.5"
  }
 },
 "nbformat": 4,
 "nbformat_minor": 2
}
